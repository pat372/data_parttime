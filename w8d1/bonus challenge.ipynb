{
 "cells": [
  {
   "cell_type": "code",
   "execution_count": 1,
   "metadata": {},
   "outputs": [],
   "source": [
    "class ClimbStairs:\n",
    "    \"\"\"\n",
    "    Class constructor\n",
    "    total_steps: how many steps in total in the stair\n",
    "    \"\"\"\n",
    "    def __init__(self, total_steps=10): \n",
    "        self.total_steps = total_steps\n",
    "        self.calculation_count = 0\n",
    "    \"\"\"\n",
    "    This function calculates how many solutions are there to reach the top when I am currently at the ith step\n",
    "    i - the step I am currently at\n",
    "    \"\"\"\n",
    "    def calc_solutions(self, i):\n",
    "        # If the current step is already larger than total steps, there's 0 solution\n",
    "        if i > self.total_steps:\n",
    "            return 0\n",
    "        # If the current step equals to the total steps, there is only one solution because I've reached the top\n",
    "        if i == self.total_steps:\n",
    "            return 1\n",
    "        # If I am still in the middle of the stair, continue calculating\n",
    "        self.calculation_count += 1\n",
    "        # Call the current function recursively. \n",
    "        # The number of solutions at the ith step equals to the number of solutions at the (i+1)th step \n",
    "        # plus the number of solutions at the (i+2)th step\n",
    "        return(self.calc_solutions(i+1) + self.calc_solutions(i+2))\n",
    "    def get_calculation_count(self):\n",
    "        return self.calculation_count\n",
    "    def solve(self):\n",
    "        return self.calc_solutions(0)"
   ]
  },
  {
   "cell_type": "code",
   "execution_count": 2,
   "metadata": {},
   "outputs": [
    {
     "name": "stdout",
     "output_type": "stream",
     "text": [
      "How many steps in the stair?5\n",
      "Ways to climb to top: 8\n",
      "Total calculations performed: 12\n"
     ]
    }
   ],
   "source": [
    "total_steps = input(\"How many steps in the stair?\")\n",
    "new_challenge = ClimbStairs(int(total_steps))\n",
    "print('Ways to climb to top: ' + str(new_challenge.solve()))\n",
    "print('Total calculations performed: ' + str(new_challenge.get_calculation_count()))"
   ]
  },
  {
   "cell_type": "code",
   "execution_count": null,
   "metadata": {},
   "outputs": [],
   "source": []
  }
 ],
 "metadata": {
  "kernelspec": {
   "display_name": "Python 3",
   "language": "python",
   "name": "python3"
  },
  "language_info": {
   "codemirror_mode": {
    "name": "ipython",
    "version": 3
   },
   "file_extension": ".py",
   "mimetype": "text/x-python",
   "name": "python",
   "nbconvert_exporter": "python",
   "pygments_lexer": "ipython3",
   "version": "3.7.5"
  }
 },
 "nbformat": 4,
 "nbformat_minor": 4
}
