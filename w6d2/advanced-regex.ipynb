{
 "cells": [
  {
   "cell_type": "code",
   "execution_count": 1,
   "metadata": {},
   "outputs": [],
   "source": [
    "import re"
   ]
  },
  {
   "cell_type": "code",
   "execution_count": 10,
   "metadata": {},
   "outputs": [],
   "source": [
    "a = re.compile(r\"\"\"\\d +  # the integral part\n",
    "                   \\.    # the decimal point\n",
    "                   \\d *  # some fractional digits\"\"\", re.X)\n",
    "b = re.compile(r\"\\d+\\.\\d*\")"
   ]
  },
  {
   "cell_type": "code",
   "execution_count": 11,
   "metadata": {},
   "outputs": [
    {
     "data": {
      "text/plain": [
       "['8.5']"
      ]
     },
     "execution_count": 11,
     "metadata": {},
     "output_type": "execute_result"
    }
   ],
   "source": [
    "re.findall(r\"\"\"\\d +  # the integral part\n",
    "               \\.    # the decimal point\n",
    "               \\d *  # some fractional digits\"\"\", 'qdqzdqz 8.5', re.VERBOSE)"
   ]
  },
  {
   "cell_type": "code",
   "execution_count": 16,
   "metadata": {},
   "outputs": [
    {
     "data": {
      "text/plain": [
       "'\\n\\\\d\\n\\\\D\\n\\\\s\\n\\\\S\\n\\\\w\\n\\\\W\\n'"
      ]
     },
     "execution_count": 16,
     "metadata": {},
     "output_type": "execute_result"
    }
   ],
   "source": [
    "\"\"\"\n",
    "\\d\n",
    "\\D\n",
    "\\s\n",
    "\\S\n",
    "\\w\n",
    "\\W\n",
    "\"\"\""
   ]
  },
  {
   "cell_type": "code",
   "execution_count": 17,
   "metadata": {},
   "outputs": [],
   "source": [
    "# \"test\" -> \"test\" / IGNORECASE (librairie re)\n",
    "# metacharacters: . ^ $ * + ? { } [ ] \\ | ( )\n",
    "# backslash : caractère d'échappement : \\^ \\* \\$, etc."
   ]
  },
  {
   "cell_type": "code",
   "execution_count": 18,
   "metadata": {},
   "outputs": [],
   "source": [
    "# introduction\n",
    "# correspondance de caractères\n",
    "# sets : [ ]\n",
    "# métacaractères\n",
    "# backslash\n",
    "# IGNORECASE\n",
    "# quantifieurs\n",
    "# classes de caractères\n",
    "# combinaison, groupes capturant, non capturant"
   ]
  },
  {
   "cell_type": "code",
   "execution_count": 26,
   "metadata": {},
   "outputs": [
    {
     "data": {
      "text/plain": [
       "['8', '7', '6', '8', '6', '5', '7', '6']"
      ]
     },
     "execution_count": 26,
     "metadata": {},
     "output_type": "execute_result"
    }
   ],
   "source": [
    "re.findall(r'[0-9]', 'KHD.UIEYEHEiuh*uqydqz87686576 qduhqziuy')"
   ]
  },
  {
   "cell_type": "code",
   "execution_count": 27,
   "metadata": {},
   "outputs": [],
   "source": [
    "# * : 0 ou plus \n",
    "# + : 1 ou plus\n",
    "# ? :  0 ou 1 fois\n",
    "# {n,m} : entre n et m fois "
   ]
  },
  {
   "cell_type": "code",
   "execution_count": 28,
   "metadata": {},
   "outputs": [
    {
     "data": {
      "text/plain": [
       "['87686576']"
      ]
     },
     "execution_count": 28,
     "metadata": {},
     "output_type": "execute_result"
    }
   ],
   "source": [
    "re.findall(r'[0-9]{3,}', 'KHD.UIEYEHEiuh*uqydqz87686576 qduhqziuy')"
   ]
  },
  {
   "cell_type": "code",
   "execution_count": 38,
   "metadata": {},
   "outputs": [
    {
     "data": {
      "text/plain": [
       "['abec']"
      ]
     },
     "execution_count": 38,
     "metadata": {},
     "output_type": "execute_result"
    }
   ],
   "source": [
    "re.findall(r'abec?', 'KHD.UIEYEHEiuh*uqydqz8abeccc7686576 qduhqziuy')"
   ]
  },
  {
   "cell_type": "code",
   "execution_count": null,
   "metadata": {},
   "outputs": [],
   "source": [
    "\"\"\"\n",
    "\\d : [0-9]\n",
    "\\D : [^0-9]\n",
    "\\s : [ \\t\\n\\r\\f\\v]\n",
    "\\S : [^ \\t\\n\\r\\f\\v]\n",
    "\\w : [a-zA-Z0-9]\n",
    "\\W : [^a-zA-Z0-9]\n",
    "\"\"\""
   ]
  },
  {
   "cell_type": "code",
   "execution_count": 43,
   "metadata": {},
   "outputs": [],
   "source": [
    "lesson = \"So far in this lesson, we have looked don't at the uses of regular expression components and the results they retrieve in isolation. This is useful, but often times you will need to combine various components into more complex regular expressions to extract the information you need to extract. In this section, we will look at several examples that combine these components to retrieve more useful information than just characters.\""
   ]
  },
  {
   "cell_type": "code",
   "execution_count": 46,
   "metadata": {},
   "outputs": [
    {
     "data": {
      "text/plain": [
       "[('', 'So'),\n",
       " ('', 'far'),\n",
       " ('', 'in'),\n",
       " ('', 'this'),\n",
       " ('', 'lesson'),\n",
       " ('', 'we'),\n",
       " ('', 'have'),\n",
       " ('', 'looked'),\n",
       " (\"don't\", ''),\n",
       " ('', 'at'),\n",
       " ('', 'the'),\n",
       " ('', 'uses'),\n",
       " ('', 'of'),\n",
       " ('', 'regular'),\n",
       " ('', 'expression'),\n",
       " ('', 'components'),\n",
       " ('', 'and'),\n",
       " ('', 'the'),\n",
       " ('', 'results'),\n",
       " ('', 'they'),\n",
       " ('', 'retrieve'),\n",
       " ('', 'in'),\n",
       " ('', 'isolation'),\n",
       " ('', 'This'),\n",
       " ('', 'is'),\n",
       " ('', 'useful'),\n",
       " ('', 'but'),\n",
       " ('', 'often'),\n",
       " ('', 'times'),\n",
       " ('', 'you'),\n",
       " ('', 'will'),\n",
       " ('', 'need'),\n",
       " ('', 'to'),\n",
       " ('', 'combine'),\n",
       " ('', 'various'),\n",
       " ('', 'components'),\n",
       " ('', 'into'),\n",
       " ('', 'more'),\n",
       " ('', 'complex'),\n",
       " ('', 'regular'),\n",
       " ('', 'expressions'),\n",
       " ('', 'to'),\n",
       " ('', 'extract'),\n",
       " ('', 'the'),\n",
       " ('', 'information'),\n",
       " ('', 'you'),\n",
       " ('', 'need'),\n",
       " ('', 'to'),\n",
       " ('', 'extract'),\n",
       " ('', 'In'),\n",
       " ('', 'this'),\n",
       " ('', 'section'),\n",
       " ('', 'we'),\n",
       " ('', 'will'),\n",
       " ('', 'look'),\n",
       " ('', 'at'),\n",
       " ('', 'several'),\n",
       " ('', 'examples'),\n",
       " ('', 'that'),\n",
       " ('', 'combine'),\n",
       " ('', 'these'),\n",
       " ('', 'components'),\n",
       " ('', 'to'),\n",
       " ('', 'retrieve'),\n",
       " ('', 'more'),\n",
       " ('', 'useful'),\n",
       " ('', 'information'),\n",
       " ('', 'than'),\n",
       " ('', 'just'),\n",
       " ('', 'characters')]"
      ]
     },
     "execution_count": 46,
     "metadata": {},
     "output_type": "execute_result"
    }
   ],
   "source": [
    "re.findall(r\"(\\w+\\'\\w+)|(\\w+)\", lesson)"
   ]
  },
  {
   "cell_type": "code",
   "execution_count": 47,
   "metadata": {},
   "outputs": [],
   "source": [
    "mail = \"smith.users.mail.com\""
   ]
  },
  {
   "cell_type": "code",
   "execution_count": 72,
   "metadata": {},
   "outputs": [
    {
     "data": {
      "text/plain": [
       "[('smith.users.mail.com', 'mail.')]"
      ]
     },
     "execution_count": 72,
     "metadata": {},
     "output_type": "execute_result"
    }
   ],
   "source": [
    "re.findall(r'((\\w+\\.)+\\w+)', mail)"
   ]
  },
  {
   "cell_type": "code",
   "execution_count": 53,
   "metadata": {},
   "outputs": [
    {
     "data": {
      "text/plain": [
       "['8.5']"
      ]
     },
     "execution_count": 53,
     "metadata": {},
     "output_type": "execute_result"
    }
   ],
   "source": [
    "re.findall(r\"\"\"\\d +  # the integral part\n",
    "               \\.    # the decimal point\n",
    "               \\d *  # some fractional digits\"\"\", 'qdqzdqz 8.5', re.VERBOSE)\n",
    "b = re.compile(r\"\\d+\\.\\d*\")"
   ]
  },
  {
   "cell_type": "code",
   "execution_count": 56,
   "metadata": {},
   "outputs": [
    {
     "data": {
      "text/plain": [
       "['-765-765']"
      ]
     },
     "execution_count": 56,
     "metadata": {},
     "output_type": "execute_result"
    }
   ],
   "source": [
    "numero = '-765-765'\n",
    "re.findall(r'\\d*-\\d+-\\d+', numero)"
   ]
  },
  {
   "cell_type": "code",
   "execution_count": 57,
   "metadata": {},
   "outputs": [],
   "source": [
    "# match() : début de chaîne de caractères\n",
    "# search() : analyse la chaîne et s'arrête dès qu'il trouve un pattern correspondant\n",
    "# findall() : trouve toute les occurences et retourne un liste\n",
    "# finditer() : trouve toutes les occurences mais permet d'y accèder via un itérateur (via une loop for)"
   ]
  },
  {
   "cell_type": "code",
   "execution_count": 60,
   "metadata": {},
   "outputs": [
    {
     "data": {
      "text/plain": [
       "'-765-765'"
      ]
     },
     "execution_count": 60,
     "metadata": {},
     "output_type": "execute_result"
    }
   ],
   "source": [
    "re.search(r'\\d*-\\d+-\\d+', '-765-765 657-876-67 try 657-876-6').group()"
   ]
  },
  {
   "cell_type": "code",
   "execution_count": 61,
   "metadata": {},
   "outputs": [
    {
     "data": {
      "text/plain": [
       "['-765-765', '657-876-67', '657-876-6']"
      ]
     },
     "execution_count": 61,
     "metadata": {},
     "output_type": "execute_result"
    }
   ],
   "source": [
    "re.findall(r'\\d*-\\d+-\\d+', '-765-765 657-876-67 try 657-876-6')"
   ]
  },
  {
   "cell_type": "code",
   "execution_count": 63,
   "metadata": {
    "scrolled": true
   },
   "outputs": [
    {
     "data": {
      "text/plain": [
       "['t', 'a', 'i', 't']"
      ]
     },
     "execution_count": 63,
     "metadata": {},
     "output_type": "execute_result"
    }
   ],
   "source": [
    "re.findall(r'\\w', 'était', re.ASCII)"
   ]
  },
  {
   "cell_type": "code",
   "execution_count": 64,
   "metadata": {},
   "outputs": [],
   "source": [
    "# \"ab*\" r\"ab*\"\n",
    "# \"\\\\\\\\section\" r\"\\\\section\"\n",
    "# \"\\\\w+\\\\s+\\\\1\" r'\\w+\\s+\\1'"
   ]
  },
  {
   "cell_type": "code",
   "execution_count": 65,
   "metadata": {},
   "outputs": [],
   "source": [
    "p = re.compile(r'[a-z]+')"
   ]
  },
  {
   "cell_type": "code",
   "execution_count": 66,
   "metadata": {},
   "outputs": [
    {
     "data": {
      "text/plain": [
       "re.compile(r'[a-z]+', re.UNICODE)"
      ]
     },
     "execution_count": 66,
     "metadata": {},
     "output_type": "execute_result"
    }
   ],
   "source": [
    "p"
   ]
  },
  {
   "cell_type": "code",
   "execution_count": 67,
   "metadata": {},
   "outputs": [
    {
     "data": {
      "text/plain": [
       "<re.Match object; span=(0, 8), match='ironhack'>"
      ]
     },
     "execution_count": 67,
     "metadata": {},
     "output_type": "execute_result"
    }
   ],
   "source": [
    "m = p.match('ironhack')\n",
    "m"
   ]
  },
  {
   "cell_type": "code",
   "execution_count": 73,
   "metadata": {},
   "outputs": [
    {
     "ename": "TypeError",
     "evalue": "compile() missing 1 required positional argument: 'pattern'",
     "output_type": "error",
     "traceback": [
      "\u001b[0;31m---------------------------------------------------------------------------\u001b[0m",
      "\u001b[0;31mTypeError\u001b[0m                                 Traceback (most recent call last)",
      "\u001b[0;32m<ipython-input-73-dd0b88322a66>\u001b[0m in \u001b[0;36m<module>\u001b[0;34m\u001b[0m\n\u001b[0;32m----> 1\u001b[0;31m \u001b[0mp\u001b[0m \u001b[0;34m=\u001b[0m \u001b[0mre\u001b[0m\u001b[0;34m.\u001b[0m\u001b[0mcompile\u001b[0m\u001b[0;34m(\u001b[0m\u001b[0;34m)\u001b[0m\u001b[0;34m\u001b[0m\u001b[0;34m\u001b[0m\u001b[0m\n\u001b[0m",
      "\u001b[0;31mTypeError\u001b[0m: compile() missing 1 required positional argument: 'pattern'"
     ]
    }
   ],
   "source": [
    "p = re.compile()"
   ]
  },
  {
   "cell_type": "code",
   "execution_count": 74,
   "metadata": {},
   "outputs": [],
   "source": [
    "text = \"During many of the peaks and troughs of history, the people living it didn't fully realize what was unfolding. But we all know we're navigating breathtaking history: Nearly every day could be — maybe will be — a book.\"\n"
   ]
  },
  {
   "cell_type": "code",
   "execution_count": 76,
   "metadata": {},
   "outputs": [
    {
     "data": {
      "text/plain": [
       "['During', 'peaks']"
      ]
     },
     "execution_count": 76,
     "metadata": {},
     "output_type": "execute_result"
    }
   ],
   "source": [
    "re.findall(r'\\w*ri\\w*|\\w*ks\\w*', text)"
   ]
  },
  {
   "cell_type": "code",
   "execution_count": 77,
   "metadata": {},
   "outputs": [],
   "source": [
    "text = \"The puppy saw all the rest of the puppies playing and wanted to join them. I saw this and wanted a puppy of my own!\""
   ]
  },
  {
   "cell_type": "code",
   "execution_count": 80,
   "metadata": {},
   "outputs": [
    {
     "data": {
      "text/plain": [
       "[('puppy', 'y'), ('puppies', 'ies'), ('puppy', 'y')]"
      ]
     },
     "execution_count": 80,
     "metadata": {},
     "output_type": "execute_result"
    }
   ],
   "source": [
    "re.findall(r'(pupp(ies|y))', text)"
   ]
  },
  {
   "cell_type": "code",
   "execution_count": null,
   "metadata": {},
   "outputs": [],
   "source": []
  }
 ],
 "metadata": {
  "kernelspec": {
   "display_name": "Python 3",
   "language": "python",
   "name": "python3"
  },
  "language_info": {
   "codemirror_mode": {
    "name": "ipython",
    "version": 3
   },
   "file_extension": ".py",
   "mimetype": "text/x-python",
   "name": "python",
   "nbconvert_exporter": "python",
   "pygments_lexer": "ipython3",
   "version": "3.7.5"
  }
 },
 "nbformat": 4,
 "nbformat_minor": 4
}
