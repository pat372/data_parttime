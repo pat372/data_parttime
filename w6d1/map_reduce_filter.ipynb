{
 "cells": [
  {
   "cell_type": "code",
   "execution_count": 1,
   "metadata": {},
   "outputs": [],
   "source": [
    "import sys"
   ]
  },
  {
   "cell_type": "code",
   "execution_count": 2,
   "metadata": {},
   "outputs": [
    {
     "name": "stdout",
     "output_type": "stream",
     "text": [
      "/Users/work/.local/share/virtualenvs/ironhack-UuIfidyp/bin/python3.7\n"
     ]
    }
   ],
   "source": [
    "print(sys.executable)"
   ]
  },
  {
   "cell_type": "code",
   "execution_count": 3,
   "metadata": {},
   "outputs": [
    {
     "name": "stdout",
     "output_type": "stream",
     "text": [
      "Python 3.7.5 (default, Nov  5 2019, 16:58:22) \n",
      "[Clang 11.0.0 (clang-1100.0.33.8)] on darwin\n",
      "Type \"help\", \"copyright\", \"credits\" or \"license\" for more information.\n",
      ">>> \n",
      "KeyboardInterrupt\n",
      ">>> \n",
      ">>> "
     ]
    }
   ],
   "source": [
    "!/Users/work/.local/share/virtualenvs/ironhack-UuIfidyp/bin/python3.7"
   ]
  },
  {
   "cell_type": "code",
   "execution_count": 4,
   "metadata": {},
   "outputs": [],
   "source": [
    "import pandas as pd"
   ]
  },
  {
   "cell_type": "code",
   "execution_count": 5,
   "metadata": {},
   "outputs": [],
   "source": [
    "?pd.DataFrame.apply"
   ]
  },
  {
   "cell_type": "code",
   "execution_count": 6,
   "metadata": {},
   "outputs": [],
   "source": [
    "import numpy as np"
   ]
  },
  {
   "cell_type": "code",
   "execution_count": 7,
   "metadata": {},
   "outputs": [],
   "source": [
    "df = pd.DataFrame(np.random.randn(4, 3), columns=['a', 'b', 'c'])"
   ]
  },
  {
   "cell_type": "code",
   "execution_count": 8,
   "metadata": {},
   "outputs": [],
   "source": [
    "def range_func(x):\n",
    "    return max(x) - min(x)"
   ]
  },
  {
   "cell_type": "code",
   "execution_count": 17,
   "metadata": {},
   "outputs": [
    {
     "data": {
      "text/html": [
       "<div>\n",
       "<style scoped>\n",
       "    .dataframe tbody tr th:only-of-type {\n",
       "        vertical-align: middle;\n",
       "    }\n",
       "\n",
       "    .dataframe tbody tr th {\n",
       "        vertical-align: top;\n",
       "    }\n",
       "\n",
       "    .dataframe thead th {\n",
       "        text-align: right;\n",
       "    }\n",
       "</style>\n",
       "<table border=\"1\" class=\"dataframe\">\n",
       "  <thead>\n",
       "    <tr style=\"text-align: right;\">\n",
       "      <th></th>\n",
       "      <th>a</th>\n",
       "      <th>b</th>\n",
       "      <th>c</th>\n",
       "    </tr>\n",
       "  </thead>\n",
       "  <tbody>\n",
       "    <tr>\n",
       "      <th>0</th>\n",
       "      <td>2.390785</td>\n",
       "      <td>1.985645</td>\n",
       "      <td>2.335342</td>\n",
       "    </tr>\n",
       "    <tr>\n",
       "      <th>1</th>\n",
       "      <td>2.390785</td>\n",
       "      <td>1.985645</td>\n",
       "      <td>2.335342</td>\n",
       "    </tr>\n",
       "    <tr>\n",
       "      <th>2</th>\n",
       "      <td>2.390785</td>\n",
       "      <td>1.985645</td>\n",
       "      <td>2.335342</td>\n",
       "    </tr>\n",
       "    <tr>\n",
       "      <th>3</th>\n",
       "      <td>2.390785</td>\n",
       "      <td>1.985645</td>\n",
       "      <td>2.335342</td>\n",
       "    </tr>\n",
       "  </tbody>\n",
       "</table>\n",
       "</div>"
      ],
      "text/plain": [
       "          a         b         c\n",
       "0  2.390785  1.985645  2.335342\n",
       "1  2.390785  1.985645  2.335342\n",
       "2  2.390785  1.985645  2.335342\n",
       "3  2.390785  1.985645  2.335342"
      ]
     },
     "execution_count": 17,
     "metadata": {},
     "output_type": "execute_result"
    }
   ],
   "source": [
    "df.apply(range_func, axis=0, result_type='broadcast')"
   ]
  },
  {
   "cell_type": "code",
   "execution_count": 19,
   "metadata": {},
   "outputs": [],
   "source": [
    "# programmation fonctionnelle : chaîne de fonctions, chacune de ces fonctions est pure (pas de variables globales)"
   ]
  },
  {
   "cell_type": "code",
   "execution_count": 20,
   "metadata": {},
   "outputs": [],
   "source": [
    "# programmation object : tout est objet"
   ]
  },
  {
   "cell_type": "code",
   "execution_count": 21,
   "metadata": {},
   "outputs": [],
   "source": [
    "# filter()"
   ]
  },
  {
   "cell_type": "code",
   "execution_count": 22,
   "metadata": {},
   "outputs": [],
   "source": [
    "add = lambda x: x+2"
   ]
  },
  {
   "cell_type": "code",
   "execution_count": 23,
   "metadata": {},
   "outputs": [
    {
     "data": {
      "text/plain": [
       "4"
      ]
     },
     "execution_count": 23,
     "metadata": {},
     "output_type": "execute_result"
    }
   ],
   "source": [
    "add(2)"
   ]
  },
  {
   "cell_type": "code",
   "execution_count": 32,
   "metadata": {},
   "outputs": [
    {
     "name": "stdout",
     "output_type": "stream",
     "text": [
      "[18, 19, 20, 21, 22, 23, 24, 25, 26, 27, 28, 29]\n"
     ]
    }
   ],
   "source": [
    "ages = range(30)\n",
    "majeurs = list(filter(lambda x: x >= 18, ages))\n",
    "print(majeurs)"
   ]
  },
  {
   "cell_type": "code",
   "execution_count": 33,
   "metadata": {},
   "outputs": [],
   "source": [
    "majeurs = [a for a in ages if a >= 18]"
   ]
  },
  {
   "cell_type": "code",
   "execution_count": 34,
   "metadata": {},
   "outputs": [
    {
     "data": {
      "text/plain": [
       "[18, 19, 20, 21, 22, 23, 24, 25, 26, 27, 28, 29]"
      ]
     },
     "execution_count": 34,
     "metadata": {},
     "output_type": "execute_result"
    }
   ],
   "source": [
    "majeurs"
   ]
  },
  {
   "cell_type": "code",
   "execution_count": 35,
   "metadata": {},
   "outputs": [],
   "source": [
    "#lisp"
   ]
  },
  {
   "cell_type": "code",
   "execution_count": 36,
   "metadata": {},
   "outputs": [],
   "source": [
    "#map()"
   ]
  },
  {
   "cell_type": "code",
   "execution_count": 37,
   "metadata": {},
   "outputs": [],
   "source": [
    "texts = ['this is a test.', 'this is another test', 'etc.']"
   ]
  },
  {
   "cell_type": "code",
   "execution_count": 40,
   "metadata": {},
   "outputs": [
    {
     "data": {
      "text/plain": [
       "['THIS IS A TEST.', 'THIS IS ANOTHER TEST', 'ETC.']"
      ]
     },
     "execution_count": 40,
     "metadata": {},
     "output_type": "execute_result"
    }
   ],
   "source": [
    "list(map(lambda x: x.upper(), texts))"
   ]
  },
  {
   "cell_type": "code",
   "execution_count": 41,
   "metadata": {},
   "outputs": [],
   "source": [
    "def upper_jm(x):\n",
    "    return x.upper()"
   ]
  },
  {
   "cell_type": "code",
   "execution_count": 42,
   "metadata": {},
   "outputs": [
    {
     "data": {
      "text/plain": [
       "['THIS IS A TEST.', 'THIS IS ANOTHER TEST', 'ETC.']"
      ]
     },
     "execution_count": 42,
     "metadata": {},
     "output_type": "execute_result"
    }
   ],
   "source": [
    "list(map(upper_jm, texts))"
   ]
  },
  {
   "cell_type": "code",
   "execution_count": 43,
   "metadata": {},
   "outputs": [
    {
     "name": "stdout",
     "output_type": "stream",
     "text": [
      "['THIS IS A TEST.', 'THIS IS ANOTHER TEST', 'ETC.']\n"
     ]
    }
   ],
   "source": [
    "print([x.upper() for x in texts])"
   ]
  },
  {
   "cell_type": "code",
   "execution_count": 44,
   "metadata": {},
   "outputs": [],
   "source": [
    "#cast : changer une variable d'un type à un autre (par exemple, string => integer)"
   ]
  },
  {
   "cell_type": "code",
   "execution_count": 45,
   "metadata": {},
   "outputs": [],
   "source": [
    "h, m, s = list(map(int, '8:19:22'.split(':')))"
   ]
  },
  {
   "cell_type": "code",
   "execution_count": 46,
   "metadata": {},
   "outputs": [
    {
     "data": {
      "text/plain": [
       "(8, 19, 22)"
      ]
     },
     "execution_count": 46,
     "metadata": {},
     "output_type": "execute_result"
    }
   ],
   "source": [
    "h, m, s"
   ]
  },
  {
   "cell_type": "code",
   "execution_count": 48,
   "metadata": {},
   "outputs": [
    {
     "data": {
      "text/plain": [
       "[8, 19, 22]"
      ]
     },
     "execution_count": 48,
     "metadata": {},
     "output_type": "execute_result"
    }
   ],
   "source": [
    "[int(i) for i in '8:19:22'.split(':')]"
   ]
  },
  {
   "cell_type": "code",
   "execution_count": 49,
   "metadata": {},
   "outputs": [],
   "source": [
    "#functools.reduce (func, lst)"
   ]
  },
  {
   "cell_type": "code",
   "execution_count": 50,
   "metadata": {},
   "outputs": [],
   "source": [
    "add = lambda a, b: a + b"
   ]
  },
  {
   "cell_type": "code",
   "execution_count": 52,
   "metadata": {},
   "outputs": [],
   "source": [
    "from functools import reduce"
   ]
  },
  {
   "cell_type": "code",
   "execution_count": 53,
   "metadata": {},
   "outputs": [
    {
     "data": {
      "text/plain": [
       "45"
      ]
     },
     "execution_count": 53,
     "metadata": {},
     "output_type": "execute_result"
    }
   ],
   "source": [
    "reduce(add, range(10))"
   ]
  },
  {
   "cell_type": "code",
   "execution_count": 54,
   "metadata": {},
   "outputs": [],
   "source": [
    "max_jm = lambda a, b: max(a, b)"
   ]
  },
  {
   "cell_type": "code",
   "execution_count": 55,
   "metadata": {},
   "outputs": [
    {
     "data": {
      "text/plain": [
       "9"
      ]
     },
     "execution_count": 55,
     "metadata": {},
     "output_type": "execute_result"
    }
   ],
   "source": [
    "reduce(max_jm, range(10))"
   ]
  },
  {
   "cell_type": "code",
   "execution_count": 56,
   "metadata": {},
   "outputs": [],
   "source": [
    "add = lambda a, b: a + 2 * b"
   ]
  },
  {
   "cell_type": "code",
   "execution_count": 57,
   "metadata": {},
   "outputs": [
    {
     "data": {
      "text/plain": [
       "90"
      ]
     },
     "execution_count": 57,
     "metadata": {},
     "output_type": "execute_result"
    }
   ],
   "source": [
    "reduce(add, range(10))"
   ]
  },
  {
   "cell_type": "code",
   "execution_count": 58,
   "metadata": {},
   "outputs": [],
   "source": [
    "df = pd.DataFrame(np.random.randn(5, 7), columns=list('ABCDEFG'))"
   ]
  },
  {
   "cell_type": "code",
   "execution_count": 59,
   "metadata": {},
   "outputs": [
    {
     "data": {
      "text/html": [
       "<div>\n",
       "<style scoped>\n",
       "    .dataframe tbody tr th:only-of-type {\n",
       "        vertical-align: middle;\n",
       "    }\n",
       "\n",
       "    .dataframe tbody tr th {\n",
       "        vertical-align: top;\n",
       "    }\n",
       "\n",
       "    .dataframe thead th {\n",
       "        text-align: right;\n",
       "    }\n",
       "</style>\n",
       "<table border=\"1\" class=\"dataframe\">\n",
       "  <thead>\n",
       "    <tr style=\"text-align: right;\">\n",
       "      <th></th>\n",
       "      <th>A</th>\n",
       "      <th>B</th>\n",
       "      <th>C</th>\n",
       "      <th>D</th>\n",
       "      <th>E</th>\n",
       "      <th>F</th>\n",
       "      <th>G</th>\n",
       "    </tr>\n",
       "  </thead>\n",
       "  <tbody>\n",
       "    <tr>\n",
       "      <th>0</th>\n",
       "      <td>0.836624</td>\n",
       "      <td>-1.220008</td>\n",
       "      <td>0.790898</td>\n",
       "      <td>0.054204</td>\n",
       "      <td>-0.592025</td>\n",
       "      <td>-0.065621</td>\n",
       "      <td>0.953143</td>\n",
       "    </tr>\n",
       "    <tr>\n",
       "      <th>1</th>\n",
       "      <td>-0.132057</td>\n",
       "      <td>-0.257181</td>\n",
       "      <td>-0.570180</td>\n",
       "      <td>0.552067</td>\n",
       "      <td>0.914332</td>\n",
       "      <td>-1.616054</td>\n",
       "      <td>0.875730</td>\n",
       "    </tr>\n",
       "    <tr>\n",
       "      <th>2</th>\n",
       "      <td>-1.327502</td>\n",
       "      <td>-0.162820</td>\n",
       "      <td>-1.694126</td>\n",
       "      <td>-1.412559</td>\n",
       "      <td>-1.007909</td>\n",
       "      <td>-0.282900</td>\n",
       "      <td>-0.724019</td>\n",
       "    </tr>\n",
       "    <tr>\n",
       "      <th>3</th>\n",
       "      <td>0.685962</td>\n",
       "      <td>-0.297998</td>\n",
       "      <td>-0.285910</td>\n",
       "      <td>1.284189</td>\n",
       "      <td>-0.552303</td>\n",
       "      <td>0.623803</td>\n",
       "      <td>-1.185199</td>\n",
       "    </tr>\n",
       "    <tr>\n",
       "      <th>4</th>\n",
       "      <td>0.896530</td>\n",
       "      <td>-0.761868</td>\n",
       "      <td>-0.444475</td>\n",
       "      <td>-1.836623</td>\n",
       "      <td>0.621648</td>\n",
       "      <td>0.326922</td>\n",
       "      <td>1.638405</td>\n",
       "    </tr>\n",
       "  </tbody>\n",
       "</table>\n",
       "</div>"
      ],
      "text/plain": [
       "          A         B         C         D         E         F         G\n",
       "0  0.836624 -1.220008  0.790898  0.054204 -0.592025 -0.065621  0.953143\n",
       "1 -0.132057 -0.257181 -0.570180  0.552067  0.914332 -1.616054  0.875730\n",
       "2 -1.327502 -0.162820 -1.694126 -1.412559 -1.007909 -0.282900 -0.724019\n",
       "3  0.685962 -0.297998 -0.285910  1.284189 -0.552303  0.623803 -1.185199\n",
       "4  0.896530 -0.761868 -0.444475 -1.836623  0.621648  0.326922  1.638405"
      ]
     },
     "execution_count": 59,
     "metadata": {},
     "output_type": "execute_result"
    }
   ],
   "source": [
    "df"
   ]
  },
  {
   "cell_type": "code",
   "execution_count": 60,
   "metadata": {},
   "outputs": [],
   "source": [
    "?df.apply"
   ]
  },
  {
   "cell_type": "code",
   "execution_count": 77,
   "metadata": {},
   "outputs": [],
   "source": [
    "df[['A', 'B', 'C']] = df[['A', 'B', 'C']].apply(lambda x: x*2, axis=0)"
   ]
  },
  {
   "cell_type": "code",
   "execution_count": 78,
   "metadata": {},
   "outputs": [
    {
     "data": {
      "text/html": [
       "<div>\n",
       "<style scoped>\n",
       "    .dataframe tbody tr th:only-of-type {\n",
       "        vertical-align: middle;\n",
       "    }\n",
       "\n",
       "    .dataframe tbody tr th {\n",
       "        vertical-align: top;\n",
       "    }\n",
       "\n",
       "    .dataframe thead th {\n",
       "        text-align: right;\n",
       "    }\n",
       "</style>\n",
       "<table border=\"1\" class=\"dataframe\">\n",
       "  <thead>\n",
       "    <tr style=\"text-align: right;\">\n",
       "      <th></th>\n",
       "      <th>A</th>\n",
       "      <th>B</th>\n",
       "      <th>C</th>\n",
       "      <th>D</th>\n",
       "      <th>E</th>\n",
       "      <th>F</th>\n",
       "      <th>G</th>\n",
       "    </tr>\n",
       "  </thead>\n",
       "  <tbody>\n",
       "    <tr>\n",
       "      <th>0</th>\n",
       "      <td>1.673248</td>\n",
       "      <td>-2.440015</td>\n",
       "      <td>1.581795</td>\n",
       "      <td>0.054204</td>\n",
       "      <td>-0.592025</td>\n",
       "      <td>-0.065621</td>\n",
       "      <td>0.953143</td>\n",
       "    </tr>\n",
       "    <tr>\n",
       "      <th>1</th>\n",
       "      <td>-0.264113</td>\n",
       "      <td>-0.514362</td>\n",
       "      <td>-1.140360</td>\n",
       "      <td>0.552067</td>\n",
       "      <td>0.914332</td>\n",
       "      <td>-1.616054</td>\n",
       "      <td>0.875730</td>\n",
       "    </tr>\n",
       "    <tr>\n",
       "      <th>2</th>\n",
       "      <td>-2.655004</td>\n",
       "      <td>-0.325640</td>\n",
       "      <td>-3.388252</td>\n",
       "      <td>-1.412559</td>\n",
       "      <td>-1.007909</td>\n",
       "      <td>-0.282900</td>\n",
       "      <td>-0.724019</td>\n",
       "    </tr>\n",
       "    <tr>\n",
       "      <th>3</th>\n",
       "      <td>1.371924</td>\n",
       "      <td>-0.595996</td>\n",
       "      <td>-0.571819</td>\n",
       "      <td>1.284189</td>\n",
       "      <td>-0.552303</td>\n",
       "      <td>0.623803</td>\n",
       "      <td>-1.185199</td>\n",
       "    </tr>\n",
       "    <tr>\n",
       "      <th>4</th>\n",
       "      <td>1.793060</td>\n",
       "      <td>-1.523735</td>\n",
       "      <td>-0.888949</td>\n",
       "      <td>-1.836623</td>\n",
       "      <td>0.621648</td>\n",
       "      <td>0.326922</td>\n",
       "      <td>1.638405</td>\n",
       "    </tr>\n",
       "  </tbody>\n",
       "</table>\n",
       "</div>"
      ],
      "text/plain": [
       "          A         B         C         D         E         F         G\n",
       "0  1.673248 -2.440015  1.581795  0.054204 -0.592025 -0.065621  0.953143\n",
       "1 -0.264113 -0.514362 -1.140360  0.552067  0.914332 -1.616054  0.875730\n",
       "2 -2.655004 -0.325640 -3.388252 -1.412559 -1.007909 -0.282900 -0.724019\n",
       "3  1.371924 -0.595996 -0.571819  1.284189 -0.552303  0.623803 -1.185199\n",
       "4  1.793060 -1.523735 -0.888949 -1.836623  0.621648  0.326922  1.638405"
      ]
     },
     "execution_count": 78,
     "metadata": {},
     "output_type": "execute_result"
    }
   ],
   "source": [
    "df"
   ]
  },
  {
   "cell_type": "code",
   "execution_count": 69,
   "metadata": {},
   "outputs": [
    {
     "data": {
      "text/plain": [
       "0    2.173151\n",
       "1    2.530387\n",
       "2    1.531306\n",
       "3    2.469388\n",
       "4    3.475028\n",
       "dtype: float64"
      ]
     },
     "execution_count": 69,
     "metadata": {},
     "output_type": "execute_result"
    }
   ],
   "source": [
    "df.apply(lambda x: max(x) - min(x), axis=1)"
   ]
  },
  {
   "cell_type": "code",
   "execution_count": 65,
   "metadata": {},
   "outputs": [
    {
     "data": {
      "text/html": [
       "<div>\n",
       "<style scoped>\n",
       "    .dataframe tbody tr th:only-of-type {\n",
       "        vertical-align: middle;\n",
       "    }\n",
       "\n",
       "    .dataframe tbody tr th {\n",
       "        vertical-align: top;\n",
       "    }\n",
       "\n",
       "    .dataframe thead th {\n",
       "        text-align: right;\n",
       "    }\n",
       "</style>\n",
       "<table border=\"1\" class=\"dataframe\">\n",
       "  <thead>\n",
       "    <tr style=\"text-align: right;\">\n",
       "      <th></th>\n",
       "      <th>A</th>\n",
       "      <th>B</th>\n",
       "      <th>C</th>\n",
       "      <th>D</th>\n",
       "      <th>E</th>\n",
       "      <th>F</th>\n",
       "      <th>G</th>\n",
       "    </tr>\n",
       "  </thead>\n",
       "  <tbody>\n",
       "    <tr>\n",
       "      <th>0</th>\n",
       "      <td>1.673248</td>\n",
       "      <td>-2.440015</td>\n",
       "      <td>1.581795</td>\n",
       "      <td>0.108409</td>\n",
       "      <td>-1.184051</td>\n",
       "      <td>-0.131242</td>\n",
       "      <td>1.906287</td>\n",
       "    </tr>\n",
       "    <tr>\n",
       "      <th>1</th>\n",
       "      <td>-0.264113</td>\n",
       "      <td>-0.514362</td>\n",
       "      <td>-1.140360</td>\n",
       "      <td>1.104134</td>\n",
       "      <td>1.828665</td>\n",
       "      <td>-3.232109</td>\n",
       "      <td>1.751460</td>\n",
       "    </tr>\n",
       "    <tr>\n",
       "      <th>2</th>\n",
       "      <td>-2.655004</td>\n",
       "      <td>-0.325640</td>\n",
       "      <td>-3.388252</td>\n",
       "      <td>-2.825119</td>\n",
       "      <td>-2.015819</td>\n",
       "      <td>-0.565799</td>\n",
       "      <td>-1.448038</td>\n",
       "    </tr>\n",
       "    <tr>\n",
       "      <th>3</th>\n",
       "      <td>1.371924</td>\n",
       "      <td>-0.595996</td>\n",
       "      <td>-0.571819</td>\n",
       "      <td>2.568377</td>\n",
       "      <td>-1.104607</td>\n",
       "      <td>1.247606</td>\n",
       "      <td>-2.370398</td>\n",
       "    </tr>\n",
       "    <tr>\n",
       "      <th>4</th>\n",
       "      <td>1.793060</td>\n",
       "      <td>-1.523735</td>\n",
       "      <td>-0.888949</td>\n",
       "      <td>-3.673247</td>\n",
       "      <td>1.243296</td>\n",
       "      <td>0.653844</td>\n",
       "      <td>3.276809</td>\n",
       "    </tr>\n",
       "  </tbody>\n",
       "</table>\n",
       "</div>"
      ],
      "text/plain": [
       "          A         B         C         D         E         F         G\n",
       "0  1.673248 -2.440015  1.581795  0.108409 -1.184051 -0.131242  1.906287\n",
       "1 -0.264113 -0.514362 -1.140360  1.104134  1.828665 -3.232109  1.751460\n",
       "2 -2.655004 -0.325640 -3.388252 -2.825119 -2.015819 -0.565799 -1.448038\n",
       "3  1.371924 -0.595996 -0.571819  2.568377 -1.104607  1.247606 -2.370398\n",
       "4  1.793060 -1.523735 -0.888949 -3.673247  1.243296  0.653844  3.276809"
      ]
     },
     "execution_count": 65,
     "metadata": {},
     "output_type": "execute_result"
    }
   ],
   "source": [
    "df * 2"
   ]
  },
  {
   "cell_type": "code",
   "execution_count": 85,
   "metadata": {},
   "outputs": [],
   "source": [
    "s = pd.Series([1,2,3,4])\n",
    "a = np.array([1,2,3,4])"
   ]
  },
  {
   "cell_type": "code",
   "execution_count": 101,
   "metadata": {},
   "outputs": [
    {
     "data": {
      "text/plain": [
       "1.2909944487358056"
      ]
     },
     "execution_count": 101,
     "metadata": {},
     "output_type": "execute_result"
    }
   ],
   "source": [
    "np.sqrt(np.sum((a - np.mean(a))**2)/(a.shape[0] - 1))"
   ]
  },
  {
   "cell_type": "code",
   "execution_count": 102,
   "metadata": {},
   "outputs": [],
   "source": [
    "l = [['a'], ['bvc']]"
   ]
  },
  {
   "cell_type": "code",
   "execution_count": 103,
   "metadata": {},
   "outputs": [
    {
     "data": {
      "text/plain": [
       "[\"['a']\", \"['bvc']\"]"
      ]
     },
     "execution_count": 103,
     "metadata": {},
     "output_type": "execute_result"
    }
   ],
   "source": [
    "[str(x) for x in l]"
   ]
  },
  {
   "cell_type": "code",
   "execution_count": null,
   "metadata": {},
   "outputs": [],
   "source": [
    "def sample_sd(x):\n",
    "    '''\n",
    "    Input: A Pandas series of values\n",
    "    Output: the standard deviation divided by the number of elements in the series\n",
    "        \n",
    "    Example:\n",
    "    Input: pd.Series([1,2,3,4])\n",
    "    Output: 0.3726779962\n",
    "    '''\n",
    "    \n",
    "    return "
   ]
  }
 ],
 "metadata": {
  "kernelspec": {
   "display_name": "Python 3",
   "language": "python",
   "name": "python3"
  },
  "language_info": {
   "codemirror_mode": {
    "name": "ipython",
    "version": 3
   },
   "file_extension": ".py",
   "mimetype": "text/x-python",
   "name": "python",
   "nbconvert_exporter": "python",
   "pygments_lexer": "ipython3",
   "version": "3.7.5"
  }
 },
 "nbformat": 4,
 "nbformat_minor": 4
}
